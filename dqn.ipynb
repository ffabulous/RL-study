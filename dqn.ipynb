{
 "cells": [
  {
   "cell_type": "markdown",
   "metadata": {
    "deletable": true,
    "editable": true
   },
   "source": [
    "# Q-network\n",
    "\n",
    "- Q-learning becomes intractable when number of states is large\n",
    "- Train a Network that learns to map $state \\to (action, reward)$"
   ]
  },
  {
   "cell_type": "markdown",
   "metadata": {
    "collapsed": true,
    "deletable": true,
    "editable": true
   },
   "source": [
    "Q-network diverges due to\n",
    "- Correlations between samples\n",
    "  - step간 샘플이 너무 비슷\n",
    "- Non-stationary targets\n",
    "  - 같은 network을 쓰므로 세타 업데이트시 Y도 바뀜"
   ]
  },
  {
   "cell_type": "markdown",
   "metadata": {
    "deletable": true,
    "editable": true
   },
   "source": [
    "add algorithm"
   ]
  },
  {
   "cell_type": "markdown",
   "metadata": {
    "deletable": true,
    "editable": true
   },
   "source": [
    "\\begin{align*}\n",
    "Y = r_t + \\gamma\\underset{a'}\\max{\\hat{Q}_\\theta(s_{t+1}, a'|\\bar\\theta)} \\\\\n",
    "\\hat{Y} = \\hat{Q}(S_t,a_t|\\theta) \\\\\n",
    "\\underset\\theta\\min\\sum_{t=0}^T[\\hat{Y}-Y]^2\n",
    "\\end{align*}"
   ]
  },
  {
   "cell_type": "markdown",
   "metadata": {
    "deletable": true,
    "editable": true
   },
   "source": [
    "- go deep: linear regression -> deep cnn\n",
    "- experience replay: buffer에 다양한 케이스를 저장후 random sample, mini batch (NIPS 2013)\n",
    "- separate networks: 세타 바는 고정하고 세타를 학습하고 특정 step 마다 copy (Nature 2015)\n",
    "\n",
    "impl:\n",
    "- pytorch with simple network\n",
    "- add experience replay\n",
    "- add separate network"
   ]
  },
  {
   "cell_type": "code",
   "execution_count": null,
   "metadata": {
    "collapsed": true
   },
   "outputs": [],
   "source": [
    "# https://github.com/hunkim/ReinforcementZeroToAll/blob/master/dqn.py\n",
    "# https://github.com/hunkim/ReinforcementZeroToAll/blob/master/07_3_dqn_2015_cartpole.py\n",
    "\n"
   ]
  }
 ],
 "metadata": {
  "kernelspec": {
   "display_name": "Python 2",
   "language": "python",
   "name": "python2"
  },
  "language_info": {
   "codemirror_mode": {
    "name": "ipython",
    "version": 2
   },
   "file_extension": ".py",
   "mimetype": "text/x-python",
   "name": "python",
   "nbconvert_exporter": "python",
   "pygments_lexer": "ipython2",
   "version": "2.7.13"
  }
 },
 "nbformat": 4,
 "nbformat_minor": 1
}
