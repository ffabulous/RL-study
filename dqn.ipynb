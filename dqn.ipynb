{
 "cells": [
  {
   "cell_type": "markdown",
   "metadata": {
    "deletable": true,
    "editable": true
   },
   "source": [
    "# Q-network\n",
    "\n",
    "- Q-learning becomes intractable when number of states is large\n",
    "- Train a Network that learns to map $state \\to (action, reward)$\n",
    "- However, Q-network diverges due to\n",
    "  - Correlations between samples (too similar)\n",
    "  - Non-stationary targets (gradient descent affects $Y$)"
   ]
  },
  {
   "cell_type": "markdown",
   "metadata": {
    "deletable": true,
    "editable": true
   },
   "source": [
    "# DQN\n",
    "\n",
    "- Use deep neural networks\n",
    "- Experience replay ([NIPS'13](https://arxiv.org/pdf/1312.5602))\n",
    "  - Store samples in memory and random sample\n",
    "- Separate action/target networks ([Nature'15](http://web.stanford.edu/class/psych209/Readings/MnihEtAlHassibis15NatureControlDeepRL.pdf))\n",
    "  - Fix target network and copy action network for N steps"
   ]
  },
  {
   "cell_type": "markdown",
   "metadata": {
    "deletable": true,
    "editable": true
   },
   "source": [
    "### Equations\n",
    "\n",
    "\\begin{align*}\n",
    "Y = r_t + \\gamma\\underset{a'}\\max{\\hat{Q}_\\theta(s_{t+1}, a';\\bar\\theta)} \\\\\n",
    "\\hat{Y} = \\hat{Q}(S_t,a_t;\\theta) \\\\\n",
    "\\underset\\theta\\min\\sum_{t=0}^T[\\hat{Y}-Y]^2\n",
    "\\end{align*}"
   ]
  },
  {
   "cell_type": "markdown",
   "metadata": {
    "collapsed": true,
    "deletable": true,
    "editable": true
   },
   "source": [
    "### Algorithm\n",
    "\n",
    "1. Initialize replay memory $D$, action network $Q(\\theta)$, target network $\\hat{Q}(\\bar\\theta)$\n",
    "2. Do Forever:\n",
    "  - Select $a_t = \\text{arg}\\underset{a}\\max Q(s_t,a;\\theta)$ with probability $1-\\epsilon$\n",
    "  - Excute action $a_t$ and observe reward $r_t$ and next state $s_{t+1}$\n",
    "  - Store transition $(s_t, a_t, r_t, s_{t+1}) \\to D$\n",
    "  - Sample random mini-batch from $D$\n",
    "  - Set $y_t = r_t$ if terminates else $r_t + \\gamma\\underset{a'}\\max{\\hat{Q}_\\theta(s_{t+1}, a';\\bar\\theta)}$\n",
    "  - Perform gradient descent step on $(y_t-Q(s_t, a_t;\\theta))^2$\n",
    "  - Copy $\\hat{Q}\\gets Q$ every $C$ steps"
   ]
  },
  {
   "cell_type": "code",
   "execution_count": 1,
   "metadata": {
    "collapsed": true,
    "deletable": true,
    "editable": true
   },
   "outputs": [],
   "source": [
    "from __future__ import division\n",
    "\n",
    "from collections import deque\n",
    "import copy\n",
    "\n",
    "import gym\n",
    "import numpy as np\n",
    "import torch\n",
    "from torch.autograd import Variable\n",
    "import torch.nn as nn"
   ]
  },
  {
   "cell_type": "code",
   "execution_count": 2,
   "metadata": {
    "collapsed": false,
    "deletable": true,
    "editable": true
   },
   "outputs": [
    {
     "name": "stderr",
     "output_type": "stream",
     "text": [
      "[2017-06-12 18:24:26,768] Making new env: CartPole-v0\n",
      "[2017-06-12 18:24:26,793] Clearing 4 monitor files from previous run (because force=True was provided)\n"
     ]
    }
   ],
   "source": [
    "env = gym.make('CartPole-v0')\n",
    "env = gym.wrappers.Monitor(env, directory='gym-results/', force=True)"
   ]
  },
  {
   "cell_type": "code",
   "execution_count": 3,
   "metadata": {
    "collapsed": true,
    "deletable": true,
    "editable": true
   },
   "outputs": [],
   "source": [
    "# Params\n",
    "INPUT_SIZE = env.observation_space.shape[0]\n",
    "OUTPUT_SIZE = env.action_space.n\n",
    "HIDDEN_SIZE = 16\n",
    "GAMMA = 0.99\n",
    "REPLAYS = 50000\n",
    "BATCH_SIZE = 64\n",
    "UPDATE_BY = 5\n",
    "EPISODES = 5000"
   ]
  },
  {
   "cell_type": "code",
   "execution_count": 4,
   "metadata": {
    "collapsed": false,
    "deletable": true,
    "editable": true
   },
   "outputs": [],
   "source": [
    "# Initialize\n",
    "D = deque(maxlen=REPLAYS)    # replay buffer\n",
    "Q = nn.Sequential(\n",
    "    nn.Linear(INPUT_SIZE, HIDDEN_SIZE),\n",
    "    nn.ReLU(),\n",
    "    nn.Linear(HIDDEN_SIZE, OUTPUT_SIZE),\n",
    ")\n",
    "Q_bar = copy.deepcopy(Q)    # target network"
   ]
  },
  {
   "cell_type": "code",
   "execution_count": 5,
   "metadata": {
    "collapsed": false,
    "deletable": true,
    "editable": true
   },
   "outputs": [
    {
     "name": "stderr",
     "output_type": "stream",
     "text": [
      "[2017-06-12 18:24:33,801] Starting new video recorder writing to /Users/naver/practice/rl-study/gym-results/openaigym.video.0.32175.video000000.mp4\n"
     ]
    }
   ],
   "source": [
    "s = env.reset()"
   ]
  },
  {
   "cell_type": "code",
   "execution_count": 18,
   "metadata": {
    "collapsed": false,
    "deletable": true,
    "editable": true
   },
   "outputs": [
    {
     "data": {
      "text/plain": [
       "Variable containing:\n",
       "-0.3304  0.1774\n",
       "[torch.FloatTensor of size 1x2]"
      ]
     },
     "execution_count": 18,
     "metadata": {},
     "output_type": "execute_result"
    }
   ],
   "source": [
    "Q(Variable(torch.FloatTensor(s)).view(1,-1))"
   ]
  },
  {
   "cell_type": "code",
   "execution_count": 19,
   "metadata": {
    "collapsed": false
   },
   "outputs": [
    {
     "data": {
      "text/plain": [
       "(array([-0.01672859,  0.14554791,  0.03870915, -0.29024425]), 1.0, False, {})"
      ]
     },
     "execution_count": 19,
     "metadata": {},
     "output_type": "execute_result"
    }
   ],
   "source": [
    "env.step(1)"
   ]
  },
  {
   "cell_type": "code",
   "execution_count": null,
   "metadata": {
    "collapsed": true,
    "deletable": true,
    "editable": true
   },
   "outputs": [],
   "source": [
    "for episode in range(EPISODES):\n",
    "    epsilon = 1 / ((episode / 10) + 1)\n",
    "    done = False\n",
    "    state = env.reset()\n",
    "    while not done:\n",
    "        if np.random.rand() < epsilon:\n",
    "            action = env.action_space.sample()\n",
    "        else:\n",
    "            action = np.argmax(Q(Variable(torch.FloatTensor(state)).view(1,-1)))\n",
    "        next_state, reward, done, _ = env.step(action)\n",
    "        D.append((state, action, reward, next_state, done))\n",
    "        "
   ]
  }
 ],
 "metadata": {
  "kernelspec": {
   "display_name": "Python 2",
   "language": "python",
   "name": "python2"
  },
  "language_info": {
   "codemirror_mode": {
    "name": "ipython",
    "version": 2
   },
   "file_extension": ".py",
   "mimetype": "text/x-python",
   "name": "python",
   "nbconvert_exporter": "python",
   "pygments_lexer": "ipython2",
   "version": "2.7.13"
  }
 },
 "nbformat": 4,
 "nbformat_minor": 1
}
